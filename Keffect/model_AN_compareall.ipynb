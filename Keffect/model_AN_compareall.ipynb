{
 "cells": [
  {
   "cell_type": "code",
   "execution_count": 1,
   "id": "c25848ae",
   "metadata": {},
   "outputs": [],
   "source": [
    "e0=0.9"
   ]
  },
  {
   "cell_type": "code",
   "execution_count": 2,
   "id": "6a3b0261",
   "metadata": {},
   "outputs": [],
   "source": [
    "import os\n",
    "os.chdir('runK'+str(e0))"
   ]
  },
  {
   "cell_type": "code",
   "execution_count": 3,
   "id": "b9ed56d3",
   "metadata": {},
   "outputs": [
    {
     "name": "stdout",
     "output_type": "stream",
     "text": [
      "0\n",
      "0\n",
      "0\n",
      "0\n",
      "0\n",
      "0\n",
      "0\n",
      "0\n",
      "0\n",
      "0\n",
      "0\n",
      "0\n",
      "1\n",
      "1\n",
      "1\n",
      "1\n",
      "1\n",
      "1\n",
      "1\n",
      "1\n",
      "1\n",
      "2\n",
      "1\n",
      "1\n",
      "1\n",
      "2\n",
      "2\n",
      "2\n",
      "2\n",
      "3\n",
      "4\n",
      "2\n",
      "2\n",
      "3\n",
      "3\n",
      "3\n",
      "3\n",
      "2\n",
      "2\n",
      "2\n",
      "2\n",
      "2\n",
      "4\n",
      "3\n",
      "4\n",
      "4\n",
      "4\n",
      "3\n",
      "3\n",
      "3\n",
      "4\n",
      "3\n",
      "3\n",
      "3\n",
      "4\n",
      "4\n",
      "4\n",
      "4\n",
      "4\n",
      "4\n"
     ]
    }
   ],
   "source": [
    "! python3 split2.py 12 1"
   ]
  },
  {
   "cell_type": "code",
   "execution_count": 4,
   "id": "81558b0f",
   "metadata": {},
   "outputs": [],
   "source": [
    "#%matplotlib qt \n",
    "import numpy as np\n",
    "from constants import *\n",
    "from functions import g, F, peak_freq, gT\n",
    "from ef import solve_ecc, k\n",
    "from scipy import integrate\n",
    "from numpy import log10 as lg\n",
    "import matplotlib.pyplot as plt\n",
    "from scipy.optimize import curve_fit\n",
    "from tqdm import tqdm\n",
    "from scipy import interpolate\n",
    "from scipy.integrate import simps\n",
    "import pickle\n",
    "from scipy.interpolate import interp1d"
   ]
  },
  {
   "cell_type": "code",
   "execution_count": 5,
   "id": "1087728c",
   "metadata": {},
   "outputs": [],
   "source": [
    "specarr=pickle.load(open('multicore2/specarrK.pkl', 'rb'))"
   ]
  },
  {
   "cell_type": "code",
   "execution_count": 6,
   "id": "8bfaafe4",
   "metadata": {},
   "outputs": [],
   "source": [
    "specarrQ=pickle.load(open('../runQ/runQ'+str(e0)+'/multicoreQ/bigarrQ.pkl', 'rb'))"
   ]
  },
  {
   "cell_type": "code",
   "execution_count": 7,
   "id": "6e5689a3",
   "metadata": {},
   "outputs": [],
   "source": [
    "sizem,sizeg,sizez,sizef=np.shape(specarr)"
   ]
  },
  {
   "cell_type": "code",
   "execution_count": 8,
   "id": "e62498d7",
   "metadata": {},
   "outputs": [],
   "source": [
    "fi=1e-9\n",
    "ff=10**(-6.5)\n",
    "f0=1e-9"
   ]
  },
  {
   "cell_type": "code",
   "execution_count": 9,
   "id": "cd49692a",
   "metadata": {},
   "outputs": [],
   "source": [
    "Mc1=1e6*MS;Mc2=1e10*MS\n",
    "Mstar=1e8*MS\n",
    "zstar=2\n",
    "z1=0.02\n",
    "z2=5\n",
    "eta1=0.08\n",
    "eta2=0.25"
   ]
  },
  {
   "cell_type": "code",
   "execution_count": 10,
   "id": "debe9d4c",
   "metadata": {},
   "outputs": [],
   "source": [
    "farr=np.logspace(lg(fi),lg(ff),sizef)\n",
    "Mcarr=np.logspace(lg(Mc1/MS),lg(Mc2/MS),sizem)*MS\n",
    "zarr=np.linspace(z1,z2,sizez)\n",
    "etaarr=np.linspace(eta1,eta2,sizeg)"
   ]
  },
  {
   "cell_type": "code",
   "execution_count": 11,
   "id": "4cc51e19",
   "metadata": {},
   "outputs": [],
   "source": [
    "hc2arr=np.array([simps(simps(simps(specarr[:,:,:,ff],Mcarr),etaarr),zarr) for ff in range(sizef)])\n",
    "hc2arrone=np.array([simps(simps(specarr[:,0,:,ff],Mcarr),zarr) for ff in range(sizef)])"
   ]
  },
  {
   "cell_type": "code",
   "execution_count": 12,
   "id": "33765483",
   "metadata": {},
   "outputs": [],
   "source": [
    "fnew=np.logspace(-9,-7,sizef)"
   ]
  },
  {
   "cell_type": "code",
   "execution_count": 13,
   "id": "c17127ef",
   "metadata": {},
   "outputs": [],
   "source": [
    "# plt.plot(lg(fnew),lg(hc2arr)/2,label='k-shifted: 'r'$\\int d\\eta$')\n",
    "# plt.plot(lg(fnew),lg(hc2arrone)/2,label='k-shifted: 'r'$\\eta=1/4$')\n",
    "# plt.xlim([lg(fi),-7])\n",
    "# plt.ylabel(r'$\\log_{10} \\ h_c$')\n",
    "# plt.xlabel(r'$\\log_{10}(f $ [Hz])')\n",
    "# plt.title('model AN:'+' $e_0=0.3, f_0=10^{-9}$ Hz')\n",
    "# plt.legend()\n",
    "# plt.show()"
   ]
  },
  {
   "cell_type": "markdown",
   "id": "317aaf24",
   "metadata": {},
   "source": [
    "# Comparing with Newtonian"
   ]
  },
  {
   "cell_type": "code",
   "execution_count": 14,
   "id": "4680f889",
   "metadata": {},
   "outputs": [],
   "source": [
    "sizemQ,sizezQ,sizefQ=np.shape(specarrQ)\n",
    "farrQ=np.logspace(-9,-7,sizefQ)"
   ]
  },
  {
   "cell_type": "code",
   "execution_count": 15,
   "id": "d1873ed1",
   "metadata": {},
   "outputs": [],
   "source": [
    "dn0=1e-4*Mpc**(-3)/Gyr\n",
    "H0=70*1e3/(Mpc)"
   ]
  },
  {
   "cell_type": "code",
   "execution_count": 16,
   "id": "8c7991d6",
   "metadata": {},
   "outputs": [],
   "source": [
    "def comoving_density_AN(Mc,z):\n",
    "    dzdt=(1+z)*np.sqrt(0.3*(1+z)**3+0.7)\n",
    "    w=((1+z)**2*np.exp(-Mc/Mstar)*np.exp(-z/zstar))/dzdt\n",
    "    allf=w/Mc*dn0/H0\n",
    "    return allf"
   ]
  },
  {
   "cell_type": "code",
   "execution_count": 17,
   "id": "69717266",
   "metadata": {},
   "outputs": [],
   "source": [
    "Y1=np.zeros((sizemQ,sizezQ,sizefQ))\n",
    "for i in range(sizemQ):\n",
    "    for j in range(sizezQ):\n",
    "        for k in range(sizefQ):\n",
    "            #Y1[i][j][k]=4*G/(np.pi*c**2*farr[i])*Y[i][j][k]*nm(Mcarr[j])*nz(zarr[k])*dn0/H0\n",
    "            Y1[i][j][k]=4*G/(np.pi*c**2*farrQ[k])*specarrQ[i][j][k]*comoving_density_AN(Mcarr[i],zarr[j])\n",
    "\n",
    "hc2arrQ=np.array([simps(simps(Y1[:,:,yy],Mcarr),zarr) for yy in range(sizefQ)])"
   ]
  },
  {
   "cell_type": "code",
   "execution_count": 18,
   "id": "59f0cdcf",
   "metadata": {},
   "outputs": [
    {
     "data": {
      "text/plain": [
       "50"
      ]
     },
     "execution_count": 18,
     "metadata": {},
     "output_type": "execute_result"
    }
   ],
   "source": [
    "len(lg(hc2arrQ)/2)"
   ]
  },
  {
   "cell_type": "code",
   "execution_count": 19,
   "id": "a0a86d5f",
   "metadata": {},
   "outputs": [
    {
     "data": {
      "image/png": "[encoded data removed]",
      "text/plain": [
       "<Figure size 432x288 with 1 Axes>"
      ]
     },
     "metadata": {
      "needs_background": "light"
     },
     "output_type": "display_data"
    }
   ],
   "source": [
    "plt.plot(lg(fnew),lg(hc2arr)/2,label='k-shifted: 'r'$\\int d\\eta$')\n",
    "plt.plot(lg(fnew),lg(hc2arrone)/2,label='k-shifted: 'r'$\\eta=0.08$')\n",
    "plt.plot(lg(farrQ),lg(hc2arrQ)/2,label='Newonian')\n",
    "plt.xlim([lg(fi),-7])\n",
    "plt.ylabel(r'$\\log_{10} \\ h_c$')\n",
    "plt.xlabel(r'$\\log_{10}(f $ [Hz])')\n",
    "plt.title('model AN:'+' $e_0=$'+str(e0)+', $f_0=10^{-9}$ Hz')\n",
    "plt.legend()\n",
    "plt.savefig('modelAN_'+str(e0)+'.pdf',dpi=1000)\n",
    "plt.show()"
   ]
  },
  {
   "cell_type": "code",
   "execution_count": 20,
   "id": "306e860e",
   "metadata": {},
   "outputs": [],
   "source": [
    "np.savetxt('../data_'+str(e0)+'.csv',np.stack((lg(fnew),lg(hc2arr)/2,lg(hc2arrone)/2), axis=-1))"
   ]
  },
  {
   "cell_type": "code",
   "execution_count": 21,
   "id": "9d76d379",
   "metadata": {},
   "outputs": [],
   "source": [
    "np.savetxt('../data_Q'+str(e0)+'.csv',np.stack((lg(farrQ),lg(hc2arrQ)/2), axis=-1))"
   ]
  },
  {
   "cell_type": "code",
   "execution_count": 22,
   "id": "cccf4ab4",
   "metadata": {},
   "outputs": [
    {
     "data": {
      "text/plain": [
       "'/media/subhajit/subhajit2/Research/eGWB/recent/runK0.9'"
      ]
     },
     "execution_count": 22,
     "metadata": {},
     "output_type": "execute_result"
    }
   ],
   "source": [
    "pwd"
   ]
  },
  {
   "cell_type": "code",
   "execution_count": null,
   "id": "b903fdbd",
   "metadata": {},
   "outputs": [],
   "source": []
  }
 ],
 "metadata": {
  "kernelspec": {
   "display_name": "Python 3 (ipykernel)",
   "language": "python",
   "name": "python3"
  },
  "language_info": {
   "codemirror_mode": {
    "name": "ipython",
    "version": 3
   },
   "file_extension": ".py",
   "mimetype": "text/x-python",
   "name": "python",
   "nbconvert_exporter": "python",
   "pygments_lexer": "ipython3",
   "version": "3.9.7"
  }
 },
 "nbformat": 4,
 "nbformat_minor": 5
}
