{
 "cells": [
  {
   "cell_type": "code",
   "execution_count": 1,
   "id": "b658a154",
   "metadata": {},
   "outputs": [],
   "source": [
    "import numpy as np\n",
    "from constants import *\n",
    "from functions import g, F, peak_freq, gT\n",
    "from ef import solve_ecc, k\n",
    "from scipy import integrate\n",
    "from numpy import log10 as lg\n",
    "import matplotlib.pyplot as plt\n",
    "from scipy.optimize import curve_fit\n",
    "from tqdm import tqdm\n",
    "from scipy import interpolate\n",
    "from scipy.integrate import simps\n",
    "import pickle\n",
    "import os\n",
    "#%matplotlib qt"
   ]
  },
  {
   "cell_type": "code",
   "execution_count": 2,
   "id": "5c9258b2",
   "metadata": {},
   "outputs": [
    {
     "data": {
      "text/plain": [
       "'/media/subhajit/subhajit2/Research/eGWB/recent/runQ'"
      ]
     },
     "execution_count": 2,
     "metadata": {},
     "output_type": "execute_result"
    }
   ],
   "source": [
    "pwd"
   ]
  },
  {
   "cell_type": "code",
   "execution_count": 3,
   "id": "7d0c8e8f",
   "metadata": {},
   "outputs": [],
   "source": [
    "# src_dir = os.getcwd()\n",
    "# os.chdir(src_dir+'/runQ2')"
   ]
  },
  {
   "cell_type": "code",
   "execution_count": 4,
   "id": "3ee2dfb8",
   "metadata": {},
   "outputs": [
    {
     "name": "stdout",
     "output_type": "stream",
     "text": [
      "sizef=20;sizem=80;sizez=80;\n",
      "\n"
     ]
    }
   ],
   "source": [
    "with open('specQ.py', 'r') as read_obj:\n",
    "    for line in read_obj:\n",
    "        if 'sizem=' in line:\n",
    "            print(line)\n",
    "#sizef=50;sizeh=200;sizem=100;sizez=100;"
   ]
  },
  {
   "cell_type": "code",
   "execution_count": 5,
   "id": "1f67610d",
   "metadata": {},
   "outputs": [],
   "source": [
    "ncore=8\n",
    "sizem=24"
   ]
  },
  {
   "cell_type": "code",
   "execution_count": 6,
   "id": "b2901ddf",
   "metadata": {},
   "outputs": [
    {
     "data": {
      "text/plain": [
       "'/media/subhajit/subhajit2/Research/eGWB/recent/runQ'"
      ]
     },
     "execution_count": 6,
     "metadata": {},
     "output_type": "execute_result"
    }
   ],
   "source": [
    "pwd"
   ]
  },
  {
   "cell_type": "code",
   "execution_count": 7,
   "id": "946e8204",
   "metadata": {},
   "outputs": [],
   "source": [
    "# P=np.shape(pickle.load(open('multicoreQ/bigarrQ_1.pkl', 'rb')))\n",
    "# Y=np.zeros((sizem,P[1],P[2]))\n",
    "# P"
   ]
  },
  {
   "cell_type": "code",
   "execution_count": 8,
   "id": "b6e529c3",
   "metadata": {},
   "outputs": [],
   "source": [
    "# for i in range(ncore):\n",
    "#     Yi=pickle.load(open('multicoreQ/bigarrQ_'+str(i)+'.pkl', 'rb'))\n",
    "#     P=np.shape(Yi)\n",
    "#     for i1,i2 in enumerate(range(i*round(sizem/ncore),i*round(sizem/ncore)+P[0])):\n",
    "#         Y[i2]=Yi[i1]\n",
    "        "
   ]
  },
  {
   "cell_type": "markdown",
   "id": "12b96ced",
   "metadata": {},
   "source": [
    "# Fully numerical Approach"
   ]
  },
  {
   "cell_type": "code",
   "execution_count": 9,
   "id": "2ab6b9de",
   "metadata": {},
   "outputs": [],
   "source": [
    "Y=pickle.load(open('multicoreQ/bigarrQ.pkl', 'rb'))"
   ]
  },
  {
   "cell_type": "code",
   "execution_count": 10,
   "id": "12698b43",
   "metadata": {},
   "outputs": [
    {
     "data": {
      "text/plain": [
       "(60, 60, 40)"
      ]
     },
     "execution_count": 10,
     "metadata": {},
     "output_type": "execute_result"
    }
   ],
   "source": [
    "np.shape(Y)\n"
   ]
  },
  {
   "cell_type": "code",
   "execution_count": 11,
   "id": "913e0cca",
   "metadata": {},
   "outputs": [],
   "source": [
    "e0=0.9\n",
    "q=1\n",
    "fi=1e-9\n",
    "ff=1e-7\n",
    "f0=1e-9\n",
    "n_har=200\n",
    "n_pts=100\n",
    "eta=q/(1+q)**2"
   ]
  },
  {
   "cell_type": "code",
   "execution_count": 12,
   "id": "c9973ca7",
   "metadata": {},
   "outputs": [],
   "source": [
    "Mstar=1e8*MS\n",
    "zstar=2\n",
    "z1=0.02\n",
    "z2=5"
   ]
  },
  {
   "cell_type": "code",
   "execution_count": 13,
   "id": "4e6d065c",
   "metadata": {},
   "outputs": [],
   "source": [
    "sizem=np.shape(Y)[0]\n",
    "sizez=np.shape(Y)[1]\n",
    "sizef=np.shape(Y)[2]"
   ]
  },
  {
   "cell_type": "code",
   "execution_count": 14,
   "id": "62a16bbc",
   "metadata": {},
   "outputs": [],
   "source": [
    "Mc1=1e6*MS;Mc2=1e10*MS\n",
    "Mstar=1e8*MS\n",
    "zstar=2\n",
    "z1=0.02\n",
    "z2=5"
   ]
  },
  {
   "cell_type": "code",
   "execution_count": 15,
   "id": "cd549040",
   "metadata": {},
   "outputs": [],
   "source": [
    "farr=np.logspace(lg(fi),lg(ff),sizef)\n",
    "Mcarr=np.logspace(lg(Mc1/MS),lg(Mc2/MS),sizem)*MS\n",
    "zarr=np.linspace(z1,z2,sizez)"
   ]
  },
  {
   "cell_type": "code",
   "execution_count": 16,
   "id": "1b36f888",
   "metadata": {},
   "outputs": [],
   "source": [
    "dn0=1e-4*Mpc**(-3)/Gyr\n",
    "H0=70*1e3/(Mpc)"
   ]
  },
  {
   "cell_type": "code",
   "execution_count": 17,
   "id": "df442ca3",
   "metadata": {},
   "outputs": [],
   "source": [
    "def nz(z):\n",
    "    dzdt=(1+z)*np.sqrt(0.3*(1+z)**3+0.7)\n",
    "    w1=((1+z)**2*np.exp(-z/zstar))/dzdt\n",
    "    return w1\n",
    "\n",
    "def nm(Mc):\n",
    "    w2=np.exp(-Mc/Mstar)/Mc\n",
    "    return w2      \n",
    "\n",
    "def comoving_density_AN(Mc,z):\n",
    "    dzdt=(1+z)*np.sqrt(0.3*(1+z)**3+0.7)\n",
    "    w=((1+z)**2*np.exp(-Mc/Mstar)*np.exp(-z/zstar))/dzdt\n",
    "    allf=w/Mc*dn0/H0\n",
    "    return allf"
   ]
  },
  {
   "cell_type": "code",
   "execution_count": 18,
   "id": "31bede0f",
   "metadata": {},
   "outputs": [],
   "source": [
    "#f,m,z\n",
    "Y1=np.zeros((sizem,sizez,sizef))\n",
    "for i in range(sizem):\n",
    "    for j in range(sizez):\n",
    "        for k in range(sizef):\n",
    "            #Y1[i][j][k]=4*G/(np.pi*c**2*farr[i])*Y[i][j][k]*nm(Mcarr[j])*nz(zarr[k])*dn0/H0\n",
    "            Y1[i][j][k]=4*G/(np.pi*c**2*farr[k])*Y[i][j][k]*comoving_density_AN(Mcarr[i],zarr[j])\n",
    "            \n",
    "            "
   ]
  },
  {
   "cell_type": "code",
   "execution_count": 19,
   "id": "e1614d4c",
   "metadata": {},
   "outputs": [],
   "source": [
    "hc2arr=np.array([simps(simps(Y1[:,:,yy],Mcarr),zarr) for yy in range(sizef)])"
   ]
  },
  {
   "cell_type": "code",
   "execution_count": 20,
   "id": "6b631496",
   "metadata": {},
   "outputs": [
    {
     "data": {
      "image/png": "[encoded data removed]",
      "text/plain": [
       "<Figure size 432x288 with 1 Axes>"
      ]
     },
     "metadata": {
      "needs_background": "light"
     },
     "output_type": "display_data"
    }
   ],
   "source": [
    "\n",
    "plt.plot(lg(farr),lg(hc2arr)/2)\n",
    "plt.xlim([lg(fi),lg(ff)])\n",
    "plt.ylabel(r'$\\log_{10} \\ h_c$')\n",
    "plt.xlabel(r'$\\log_{10}(f $ [Hz])')\n",
    "plt.show()"
   ]
  },
  {
   "cell_type": "code",
   "execution_count": 21,
   "id": "62e47a97",
   "metadata": {},
   "outputs": [
    {
     "data": {
      "text/plain": [
       "'/media/subhajit/subhajit2/Research/eGWB/recent/runQ'"
      ]
     },
     "execution_count": 21,
     "metadata": {},
     "output_type": "execute_result"
    }
   ],
   "source": [
    "pwd"
   ]
  },
  {
   "cell_type": "code",
   "execution_count": 22,
   "id": "3a308fd3",
   "metadata": {},
   "outputs": [],
   "source": [
    "np.savetxt('../runK0.9/0.9Q.csv',np.stack((lg(farr),lg(hc2arr)/2), axis=-1))"
   ]
  },
  {
   "cell_type": "code",
   "execution_count": 23,
   "id": "548d3ffe",
   "metadata": {},
   "outputs": [],
   "source": [
    "lfarr,spec=np.loadtxt('scaleQ.csv').transpose()"
   ]
  },
  {
   "cell_type": "code",
   "execution_count": 24,
   "id": "efe30308",
   "metadata": {},
   "outputs": [
    {
     "data": {
      "image/png": "[encoded data removed]",
      "text/plain": [
       "<Figure size 432x288 with 1 Axes>"
      ]
     },
     "metadata": {
      "needs_background": "light"
     },
     "output_type": "display_data"
    }
   ],
   "source": [
    "plt.plot(lfarr,spec,label='scaled')\n",
    "plt.plot(lg(farr),lg(hc2arr)/2,label='numerical')\n",
    "plt.xlim([lg(fi),lg(ff)])\n",
    "plt.ylabel(r'$\\log_{10} \\ h_c$')\n",
    "plt.xlabel(r'$\\log_{10}(f $ [Hz])')\n",
    "plt.legend()\n",
    "plt.show()"
   ]
  },
  {
   "cell_type": "code",
   "execution_count": null,
   "id": "30a3df76",
   "metadata": {},
   "outputs": [],
   "source": []
  }
 ],
 "metadata": {
  "kernelspec": {
   "display_name": "Python 3 (ipykernel)",
   "language": "python",
   "name": "python3"
  },
  "language_info": {
   "codemirror_mode": {
    "name": "ipython",
    "version": 3
   },
   "file_extension": ".py",
   "mimetype": "text/x-python",
   "name": "python",
   "nbconvert_exporter": "python",
   "pygments_lexer": "ipython3",
   "version": "3.9.7"
  }
 },
 "nbformat": 4,
 "nbformat_minor": 5
}
