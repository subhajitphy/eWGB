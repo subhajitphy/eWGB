{
  "nbformat": 4,
  "nbformat_minor": 0,
  "metadata": {
    "colab": {
      "provenance": [],
      "authorship_tag": "ABX9TyNqDlQorjkLlUhhd/q7SdVp",
      "include_colab_link": true
    },
    "kernelspec": {
      "name": "python3",
      "display_name": "Python 3"
    },
    "language_info": {
      "name": "python"
    }
  },
  "cells": [
    {
      "cell_type": "markdown",
      "metadata": {
        "id": "view-in-github",
        "colab_type": "text"
      },
      "source": [
        "<a href=\"https://colab.research.google.com/github/subhajitphy/eWGB/blob/main/right_one.ipynb\" target=\"_parent\"><img src=\"https://colab.research.google.com/assets/colab-badge.svg\" alt=\"Open In Colab\"/></a>"
      ]
    },
    {
      "cell_type": "code",
      "execution_count": null,
      "metadata": {
        "id": "mVWJyV5nBawY"
      },
      "outputs": [],
      "source": [
        "import torch\n",
        "import torch.nn as nn\n",
        "import torch.optim as optim\n",
        "import numpy as np\n",
        "import matplotlib.pyplot as plt\n",
        "from sklearn.model_selection import train_test_split\n",
        "from sklearn.preprocessing import StandardScaler\n",
        "\n",
        "# Load data\n",
        "inp1,inp2,outp=np.load('all_file_nef.pkl', allow_pickle=True)\n"
      ]
    },
    {
      "cell_type": "code",
      "source": [
        "from torch.utils.data import DataLoader, TensorDataset"
      ],
      "metadata": {
        "id": "GfywD8zaQqbs"
      },
      "execution_count": null,
      "outputs": []
    },
    {
      "cell_type": "code",
      "source": [
        "X = np.vstack([inp1, inp2]).T\n",
        "y = outp.reshape(-1, 1)  # Ensure y is a column vector"
      ],
      "metadata": {
        "id": "X2-E5g6aQ__r"
      },
      "execution_count": null,
      "outputs": []
    },
    {
      "cell_type": "code",
      "source": [
        "# Train-Test Split\n",
        "X_train, X_test, y_train, y_test = train_test_split(X, y, test_size=0.2, random_state=42)\n",
        "\n",
        "# Normalize Input & Output\n",
        "scaler_X = StandardScaler()\n",
        "scaler_y = StandardScaler()\n",
        "\n",
        "X_train = scaler_X.fit_transform(X_train)\n",
        "X_test = scaler_X.transform(X_test)\n",
        "\n",
        "y_train = scaler_y.fit_transform(y_train.reshape(-1, 1)).flatten()\n",
        "y_test = scaler_y.transform(y_test.reshape(-1, 1)).flatten()\n",
        "\n",
        "# Convert to Tensors\n",
        "X_train_tensor = torch.tensor(X_train, dtype=torch.float32)\n",
        "X_test_tensor = torch.tensor(X_test, dtype=torch.float32)\n",
        "y_train_tensor = torch.tensor(y_train, dtype=torch.float32).unsqueeze(1)\n",
        "y_test_tensor = torch.tensor(y_test, dtype=torch.float32).unsqueeze(1)"
      ],
      "metadata": {
        "id": "BeYtSywhRBv5"
      },
      "execution_count": null,
      "outputs": []
    },
    {
      "cell_type": "code",
      "source": [
        "# Move to GPU if available\n",
        "device = torch.device(\"cuda\" if torch.cuda.is_available() else \"cpu\")\n",
        "X_train_tensor, y_train_tensor = X_train_tensor.to(device), y_train_tensor.to(device)\n",
        "X_test_tensor, y_test_tensor = X_test_tensor.to(device), y_test_tensor.to(device)"
      ],
      "metadata": {
        "id": "Gv-IyzRPRIwY"
      },
      "execution_count": null,
      "outputs": []
    },
    {
      "cell_type": "code",
      "source": [
        "# Create DataLoader\n",
        "batch_size = 1024\n",
        "train_dataset = TensorDataset(X_train_tensor, y_train_tensor)\n",
        "train_loader = DataLoader(train_dataset, batch_size=batch_size, shuffle=True)"
      ],
      "metadata": {
        "id": "PzvGYKHSRU9l"
      },
      "execution_count": null,
      "outputs": []
    },
    {
      "cell_type": "code",
      "source": [
        "class EfficientNN(nn.Module):\n",
        "    def __init__(self):\n",
        "        super(EfficientNN, self).__init__()\n",
        "        self.model = nn.Sequential(\n",
        "            nn.Linear(2, 40),\n",
        "            nn.BatchNorm1d(40),  # Batch Normalization\n",
        "            nn.ReLU(),\n",
        "\n",
        "            nn.Linear(40, 40),\n",
        "            nn.BatchNorm1d(40),\n",
        "            nn.ReLU(),\n",
        "\n",
        "            nn.Linear(40, 40),\n",
        "            nn.BatchNorm1d(40),\n",
        "            nn.ReLU(),\n",
        "\n",
        "            nn.Linear(40, 40),\n",
        "            nn.BatchNorm1d(40),\n",
        "            nn.ReLU(),\n",
        "\n",
        "            nn.Linear(40, 40),\n",
        "            nn.BatchNorm1d(40),\n",
        "            nn.ReLU(),\n",
        "\n",
        "            nn.Linear(40, 40),\n",
        "            nn.BatchNorm1d(40),\n",
        "            nn.ReLU(),\n",
        "\n",
        "            nn.Linear(40, 1)\n",
        "        )\n",
        "\n",
        "    def forward(self, x):\n",
        "        return self.model(x)"
      ],
      "metadata": {
        "id": "FRMNKYVzRc45"
      },
      "execution_count": null,
      "outputs": []
    },
    {
      "cell_type": "code",
      "source": [
        "# Instantiate the model\n",
        "model = EfficientNN()\n",
        "\n",
        "# Define Loss Function and Optimizer\n",
        "criterion = nn.MSELoss()  # Mean Squared Error Loss for regression\n",
        "optimizer = optim.Adam(model.parameters(), lr=0.001, weight_decay=1e-6)\n",
        "scheduler = optim.lr_scheduler.StepLR(optimizer, step_size=5, gamma=0.5)"
      ],
      "metadata": {
        "id": "OOSy4G7gRg4x"
      },
      "execution_count": null,
      "outputs": []
    },
    {
      "cell_type": "code",
      "source": [
        "# # Example Training Loop\n",
        "# num_epochs = 20\n",
        "# for epoch in range(num_epochs):\n",
        "#     model.train()\n",
        "#     running_loss = 0.0\n",
        "#     for inputs, labels in train_loader:\n",
        "#         optimizer.zero_grad()\n",
        "#         outputs = model(inputs)\n",
        "#         loss = criterion(outputs, labels)\n",
        "#         loss.backward()\n",
        "#         optimizer.step()\n",
        "#         running_loss += loss.item()\n",
        "\n",
        "#     print(f\"Epoch [{epoch+1}/{num_epochs}], Loss: {running_loss/len(train_loader)}\")\n"
      ],
      "metadata": {
        "id": "w_70Ii0VRpQc"
      },
      "execution_count": null,
      "outputs": []
    },
    {
      "cell_type": "code",
      "source": [],
      "metadata": {
        "id": "KQsqTsKMSkQB"
      },
      "execution_count": null,
      "outputs": []
    },
    {
      "cell_type": "code",
      "source": [
        "num_epochs = 20\n",
        "train_losses = []\n",
        "val_losses = []\n",
        "\n",
        "for epoch in range(num_epochs):\n",
        "    model.train()\n",
        "    epoch_loss = 0\n",
        "    for batch_X, batch_y in train_loader:\n",
        "        optimizer.zero_grad()\n",
        "        predictions = model(batch_X)\n",
        "        loss = criterion(predictions, batch_y)\n",
        "        loss.backward()\n",
        "        optimizer.step()\n",
        "        epoch_loss += loss.item()\n",
        "\n",
        "    train_losses.append(epoch_loss / len(train_loader))\n",
        "    scheduler.step()\n",
        "\n",
        "    # Validation\n",
        "    model.eval()\n",
        "    with torch.no_grad():\n",
        "        val_predictions = model(X_test_tensor)\n",
        "        val_loss = criterion(val_predictions, y_test_tensor).item()\n",
        "        val_losses.append(val_loss)\n",
        "\n",
        "    print(f\"Epoch {epoch+1}/{num_epochs}, Train Loss: {train_losses[-1]:.6f}, Val Loss: {val_loss:.6f}\")"
      ],
      "metadata": {
        "colab": {
          "base_uri": "https://localhost:8080/"
        },
        "id": "ytNN_hqFRyxk",
        "outputId": "427e4798-a96b-498d-add1-b083be1ec89c"
      },
      "execution_count": null,
      "outputs": [
        {
          "output_type": "stream",
          "name": "stdout",
          "text": [
            "Epoch 1/20, Train Loss: 0.007331, Val Loss: 0.000246\n",
            "Epoch 2/20, Train Loss: 0.001931, Val Loss: 0.000175\n",
            "Epoch 3/20, Train Loss: 0.001922, Val Loss: 0.000308\n",
            "Epoch 4/20, Train Loss: 0.001829, Val Loss: 0.000207\n",
            "Epoch 5/20, Train Loss: 0.001852, Val Loss: 0.000705\n",
            "Epoch 6/20, Train Loss: 0.001527, Val Loss: 0.000242\n",
            "Epoch 7/20, Train Loss: 0.001565, Val Loss: 0.000252\n",
            "Epoch 8/20, Train Loss: 0.001364, Val Loss: 0.000118\n",
            "Epoch 9/20, Train Loss: 0.001444, Val Loss: 0.000488\n",
            "Epoch 10/20, Train Loss: 0.001426, Val Loss: 0.000244\n",
            "Epoch 11/20, Train Loss: 0.001151, Val Loss: 0.000199\n",
            "Epoch 12/20, Train Loss: 0.001103, Val Loss: 0.000164\n",
            "Epoch 13/20, Train Loss: 0.001068, Val Loss: 0.000097\n",
            "Epoch 14/20, Train Loss: 0.001018, Val Loss: 0.000064\n",
            "Epoch 15/20, Train Loss: 0.001011, Val Loss: 0.000155\n",
            "Epoch 16/20, Train Loss: 0.000899, Val Loss: 0.000154\n",
            "Epoch 17/20, Train Loss: 0.000830, Val Loss: 0.000056\n",
            "Epoch 18/20, Train Loss: 0.000763, Val Loss: 0.000072\n",
            "Epoch 19/20, Train Loss: 0.000722, Val Loss: 0.000123\n",
            "Epoch 20/20, Train Loss: 0.000697, Val Loss: 0.000134\n"
          ]
        }
      ]
    },
    {
      "cell_type": "code",
      "source": [
        "plt.plot(range(1, num_epochs + 1), train_losses, label=\"Train Loss\")\n",
        "plt.plot(range(1, num_epochs + 1), val_losses, label=\"Validation Loss\")\n",
        "plt.xlabel(\"Epochs\")\n",
        "plt.ylabel(\"Loss\")\n",
        "plt.legend()\n",
        "plt.title(\"Training & Validation Loss\")\n",
        "plt.show()"
      ],
      "metadata": {
        "colab": {
          "base_uri": "https://localhost:8080/",
          "height": 472
        },
        "id": "EryotvVtSwnk",
        "outputId": "433156bd-4464-4f29-a768-f582b05d7124"
      },
      "execution_count": null,
      "outputs": [
        {
          "output_type": "display_data",
          "data": {
            "text/plain": [
              "<Figure size 640x480 with 1 Axes>"
            ],
            "image/png": "[encoded data removed]"
          },
          "metadata": {}
        }
      ]
    },
    {
      "cell_type": "code",
      "source": [
        "torch.save(model.state_dict(), \"trained_model.pth\")\n",
        "\n",
        "# Inference (prediction)\n",
        "def predict(inp_array):\n",
        "    model.eval()\n",
        "    inp_tensor = torch.tensor(inp_array, dtype=torch.float32)\n",
        "    with torch.no_grad():\n",
        "        return model(inp_tensor).numpy()\n",
        "\n",
        "# Example prediction\n",
        "test_input = np.array([[-8.5, 1.1]])  # Example input\n",
        "print(\"Predicted output:\", predict(test_input))"
      ],
      "metadata": {
        "colab": {
          "base_uri": "https://localhost:8080/"
        },
        "id": "7HKdJOVLVf4p",
        "outputId": "4216e6d5-4410-47d9-a78f-7add2869c221"
      },
      "execution_count": null,
      "outputs": [
        {
          "output_type": "stream",
          "name": "stdout",
          "text": [
            "Predicted output: [[-4.461468]]\n"
          ]
        }
      ]
    },
    {
      "cell_type": "code",
      "source": [
        "model.eval()\n",
        "with torch.no_grad():\n",
        "    predictions = model(X_test_tensor)\n",
        "\n",
        "# You may want to inverse transform the predicted and actual values back to their original scale\n",
        "predictions = scaler_y.inverse_transform(predictions.numpy())\n",
        "y_test = scaler_y.inverse_transform(y_test_tensor.numpy())"
      ],
      "metadata": {
        "id": "XvaH67NqVkWW"
      },
      "execution_count": null,
      "outputs": []
    },
    {
      "cell_type": "code",
      "source": [
        "predictions-y_test"
      ],
      "metadata": {
        "colab": {
          "base_uri": "https://localhost:8080/"
        },
        "id": "6xGX7a9UV_s_",
        "outputId": "31bc39b6-6c57-42b0-8ef7-e3839595a038"
      },
      "execution_count": null,
      "outputs": [
        {
          "output_type": "execute_result",
          "data": {
            "text/plain": [
              "array([[-0.01409817],\n",
              "       [-0.00997162],\n",
              "       [ 0.00881481],\n",
              "       ...,\n",
              "       [-0.01936626],\n",
              "       [-0.00124073],\n",
              "       [-0.00556231]], dtype=float32)"
            ]
          },
          "metadata": {},
          "execution_count": 19
        }
      ]
    },
    {
      "cell_type": "code",
      "source": [
        "X_test_tensor.shape"
      ],
      "metadata": {
        "colab": {
          "base_uri": "https://localhost:8080/"
        },
        "id": "xn3RThNNWB59",
        "outputId": "b2d77d89-71e1-4880-e070-dd510bc303d8"
      },
      "execution_count": null,
      "outputs": [
        {
          "output_type": "execute_result",
          "data": {
            "text/plain": [
              "torch.Size([200000, 2])"
            ]
          },
          "metadata": {},
          "execution_count": 21
        }
      ]
    },
    {
      "cell_type": "code",
      "source": [
        "X_test_tensor"
      ],
      "metadata": {
        "colab": {
          "base_uri": "https://localhost:8080/"
        },
        "id": "-ZMAHcn_YQeu",
        "outputId": "766f6488-d9f9-4087-f241-4288b717c907"
      },
      "execution_count": null,
      "outputs": [
        {
          "output_type": "execute_result",
          "data": {
            "text/plain": [
              "tensor([[ 1.6731,  0.6376],\n",
              "        [-1.1266, -0.8262],\n",
              "        [ 0.0234,  1.1618],\n",
              "        ...,\n",
              "        [ 1.5591, -0.6687],\n",
              "        [-0.1152, -0.4264],\n",
              "        [ 1.1928,  1.6564]])"
            ]
          },
          "metadata": {},
          "execution_count": 25
        }
      ]
    },
    {
      "cell_type": "code",
      "source": [
        "def predict(new_inputs):\n",
        "        \"\"\"\n",
        "        Predict outputs for new input data\n",
        "\n",
        "        Parameters:\n",
        "        new_inputs (np.array): 2D array of shape (n_samples, 2)\n",
        "\n",
        "        Returns:\n",
        "        np.array: Predicted outputs in original scale\n",
        "        \"\"\"\n",
        "        model.eval()\n",
        "        if len(new_inputs.shape) == 1:\n",
        "            new_inputs = new_inputs.reshape(1, -1)\n",
        "\n",
        "        if new_inputs.shape[1] != 2:\n",
        "            raise ValueError(\"Input must have 2 features\")\n",
        "\n",
        "        inputs_scaled = scaler_X.transform(new_inputs)\n",
        "        inputs_tensor = torch.tensor(inputs_scaled, dtype=torch.float32).to(device)\n",
        "\n",
        "        with torch.no_grad():\n",
        "            pred_scaled = model(inputs_tensor)\n",
        "\n",
        "        pred = scaler_y.inverse_transform(pred_scaled.cpu().numpy())\n",
        "        return pred.flatten()"
      ],
      "metadata": {
        "id": "GJNf0-0rYW7x"
      },
      "execution_count": null,
      "outputs": []
    },
    {
      "cell_type": "code",
      "source": [
        "predict(np.array([-9,1.9]))"
      ],
      "metadata": {
        "colab": {
          "base_uri": "https://localhost:8080/"
        },
        "id": "Bx9p07MlkUjA",
        "outputId": "6f734338-343e-428a-8b63-ebf67ced99d7"
      },
      "execution_count": null,
      "outputs": [
        {
          "output_type": "execute_result",
          "data": {
            "text/plain": [
              "array([-9.4551735], dtype=float32)"
            ]
          },
          "metadata": {},
          "execution_count": 28
        }
      ]
    },
    {
      "cell_type": "code",
      "source": [],
      "metadata": {
        "id": "IJvjl4Ijkarl"
      },
      "execution_count": null,
      "outputs": []
    }
  ]
}